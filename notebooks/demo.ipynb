{
 "cells": [
  {
   "cell_type": "code",
   "execution_count": null,
   "metadata": {},
   "outputs": [],
   "source": [
    "# Debug library, very useful\n",
    "from icecream import ic"
   ]
  },
  {
   "cell_type": "code",
   "execution_count": null,
   "metadata": {},
   "outputs": [],
   "source": [
    "import os\n",
    "\n",
    "dir_fake = [\"../dataset/fake\"]\n",
    "dir_real = [\"../dataset/real\"]\n",
    "\n",
    "# Collect all file paths and filter invalid files\n",
    "fake_files = [\n",
    "    os.path.join(subdir, file)\n",
    "    for dir in dir_fake\n",
    "    for subdir, _, files in os.walk(dir)\n",
    "    for file in files\n",
    "    if os.path.isfile(os.path.join(subdir, file))\n",
    "]\n",
    "\n",
    "real_files = [\n",
    "    os.path.join(subdir, file)\n",
    "    for dir in dir_real\n",
    "    for subdir, _, files in os.walk(dir)\n",
    "    for file in files\n",
    "    if os.path.isfile(os.path.join(subdir, file))\n",
    "]"
   ]
  },
  {
   "cell_type": "code",
   "execution_count": null,
   "metadata": {},
   "outputs": [],
   "source": [
    "import torch.multiprocessing\n",
    "import torch.utils.data\n",
    "from torchvision.io import decode_image\n",
    "\n",
    "\n",
    "class BenfordDataset(torch.utils.data.Dataset):\n",
    "    def __init__(self, files, label):\n",
    "        self.files = files\n",
    "        self.label = label\n",
    "\n",
    "    def __len__(self):\n",
    "        return len(self.files)\n",
    "\n",
    "    def __getitem__(self, idx):\n",
    "        image = decode_image(self.files[idx], mode=\"GRAY\")\n",
    "        return image, self.label[idx]\n",
    "\n",
    "\n",
    "# Parameters\n",
    "params = {\n",
    "    \"batch_size\": 20,\n",
    "    \"shuffle\": False,\n",
    "    \"num_workers\": torch.multiprocessing.cpu_count(),\n",
    "    \"pin_memory\": True,\n",
    "    \"prefetch_factor\": 2,\n",
    "}\n",
    "\n",
    "fake_data_loader = torch.utils.data.DataLoader(\n",
    "    BenfordDataset(fake_files, [1] * len(fake_files)), **params\n",
    ")\n",
    "\n",
    "real_data_loader = torch.utils.data.DataLoader(\n",
    "    BenfordDataset(real_files, [0] * len(real_files)), **params\n",
    ")"
   ]
  },
  {
   "cell_type": "code",
   "execution_count": null,
   "metadata": {},
   "outputs": [],
   "source": [
    "from tqdm import tqdm\n",
    "from ImageForensics import FeatureExtraction\n",
    "\n",
    "N = 300\n",
    "extract = FeatureExtraction(features=N)\n",
    "\n",
    "device = torch.device(\"cuda\" if torch.cuda.is_available() else \"cpu\")\n",
    "\n",
    "psd1D_total_fake = []\n",
    "psd1D_total_real = []\n",
    "\n",
    "for fake_batch, fake_labels in tqdm(fake_data_loader):\n",
    "    fake_batch = fake_batch.to(device)\n",
    "    psd1D_batch = [extract.fft(fake_image) for fake_image in fake_batch]\n",
    "    psd1D_total_fake.extend(psd1D_batch)\n",
    "\n",
    "for real_batch, real_labels in tqdm(real_data_loader):\n",
    "    real_batch = real_batch.to(device)\n",
    "    psd1D_batch = [extract.fft(real_image) for real_image in real_batch]\n",
    "    psd1D_total_real.extend(psd1D_batch)\n",
    "\n",
    "# Convert lists to tensors and send the results back to the CPU\n",
    "psd1D_total_fake = torch.stack(psd1D_total_fake).to(\"cpu\")\n",
    "psd1D_total_real = torch.stack(psd1D_total_real).to(\"cpu\")\n",
    "\n",
    "# Remove None results if any files failed to process\n",
    "psd1D_total_fake = [result for result in psd1D_total_fake if result is not None]\n",
    "psd1D_total_real = [result for result in psd1D_total_real if result is not None]"
   ]
  },
  {
   "cell_type": "code",
   "execution_count": null,
   "metadata": {},
   "outputs": [],
   "source": [
    "import numpy as np\n",
    "\n",
    "label_total_fake = np.full(len(psd1D_total_fake), True)\n",
    "label_total_real = np.full(len(psd1D_total_real), False)\n",
    "\n",
    "# psd1D_total_final = psd1D_total_fake\n",
    "# label_total_final = label_total_fake\n",
    "\n",
    "features = np.concatenate((psd1D_total_fake, psd1D_total_real))\n",
    "labels = np.concatenate((label_total_fake, label_total_real))"
   ]
  },
  {
   "cell_type": "code",
   "execution_count": null,
   "metadata": {},
   "outputs": [],
   "source": [
    "# Benford's Law for the first digit\n",
    "DIGITS = np.arange(1, 10)\n",
    "BENFORD = np.log10(1 + 1 / DIGITS)"
   ]
  },
  {
   "cell_type": "code",
   "execution_count": null,
   "metadata": {},
   "outputs": [],
   "source": [
    "def get_first_digit(value: float) -> int:\n",
    "    return int(str(value)[0])\n",
    "\n",
    "\n",
    "def get_digit_counts(array: list[int]) -> list[int]:\n",
    "    # use List comprehension to count the occurrences of each digit\n",
    "    return [array.count(digit) for digit in DIGITS]\n",
    "\n",
    "\n",
    "# Get first digit of each value\n",
    "first_digits = [[get_first_digit(value) for value in array] for array in features]\n",
    "\n",
    "# Count the occurrences of each first digit\n",
    "first_digits_counts = [get_digit_counts(array) for array in first_digits]"
   ]
  },
  {
   "cell_type": "code",
   "execution_count": null,
   "metadata": {},
   "outputs": [],
   "source": [
    "import scipy.stats as stats\n",
    "from sklearn import metrics\n",
    "\n",
    "\n",
    "def test_results(\n",
    "    alpha: int,\n",
    "    first_digits_counts: list[list[int]] = first_digits_counts,\n",
    ") -> dict:\n",
    "    # Test the goodness of fit for each feature\n",
    "    goodness_of_fit = [\n",
    "        stats.pearsonr(first_digits_count, BENFORD)\n",
    "        for first_digits_count in first_digits_counts\n",
    "    ]\n",
    "\n",
    "    # calculate True Positive, False Positive, True Negative, False Negative\n",
    "    results = [1 - alpha >= p_value for p_value, _ in goodness_of_fit]\n",
    "\n",
    "    # label for fake is 0/False, real is 1/True\n",
    "    TN, FP, FN, TP = metrics.confusion_matrix(labels, results).ravel()\n",
    "\n",
    "    return {\n",
    "        \"TP\": TP,\n",
    "        \"FP\": FP,\n",
    "        \"TN\": TN,\n",
    "        \"FN\": FN,\n",
    "        \"precision\": metrics.precision_score(labels, results),\n",
    "        \"recall\": metrics.recall_score(labels, results),\n",
    "        \"f1\": metrics.f1_score(labels, results),\n",
    "        \"accuracy\": metrics.accuracy_score(labels, results),\n",
    "    }"
   ]
  },
  {
   "cell_type": "code",
   "execution_count": null,
   "metadata": {},
   "outputs": [],
   "source": [
    "ALPHA = [0.01, 0.05, 0.1]\n",
    "\n",
    "for alpha in ALPHA:\n",
    "    ic(alpha, test_results(alpha))"
   ]
  }
 ],
 "metadata": {
  "kernelspec": {
   "display_name": ".venv",
   "language": "python",
   "name": "python3"
  },
  "language_info": {
   "codemirror_mode": {
    "name": "ipython",
    "version": 3
   },
   "file_extension": ".py",
   "mimetype": "text/x-python",
   "name": "python",
   "nbconvert_exporter": "python",
   "pygments_lexer": "ipython3"
  }
 },
 "nbformat": 4,
 "nbformat_minor": 2
}
