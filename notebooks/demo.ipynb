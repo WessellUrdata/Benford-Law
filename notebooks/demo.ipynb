{
 "cells": [
  {
   "cell_type": "code",
   "execution_count": null,
   "metadata": {},
   "outputs": [],
   "source": [
    "import numpy as np\n",
    "\n",
    "# Debug library, very useful\n",
    "from icecream import ic"
   ]
  },
  {
   "cell_type": "code",
   "execution_count": null,
   "metadata": {},
   "outputs": [],
   "source": [
    "import os\n",
    "\n",
    "dir_fake = [\"../dataset/fake\"]\n",
    "dir_real = [\"../dataset/real\"]\n",
    "\n",
    "# Collect all file paths and filter invalid files\n",
    "fake_files = [\n",
    "    os.path.join(subdir, file)\n",
    "    for dir in dir_fake\n",
    "    for subdir, _, files in os.walk(dir)\n",
    "    for file in files\n",
    "    if os.path.isfile(os.path.join(subdir, file))\n",
    "]\n",
    "\n",
    "real_files = [\n",
    "    os.path.join(subdir, file)\n",
    "    for dir in dir_real\n",
    "    for subdir, _, files in os.walk(dir)\n",
    "    for file in files\n",
    "    if os.path.isfile(os.path.join(subdir, file))\n",
    "]"
   ]
  },
  {
   "cell_type": "code",
   "execution_count": null,
   "metadata": {},
   "outputs": [],
   "source": [
    "from ImageForensics import FeatureExtraction\n",
    "\n",
    "N = 300\n",
    "extract = FeatureExtraction(features=N)\n",
    "\n",
    "psd1D_total_fake = extract.multithread_fft(fake_files)\n",
    "psd1D_total_real = extract.multithread_fft(real_files)\n",
    "\n",
    "# Remove None results if any files failed to process\n",
    "psd1D_total_fake = [result for result in psd1D_total_fake if result is not None]\n",
    "psd1D_total_real = [result for result in psd1D_total_real if result is not None]"
   ]
  },
  {
   "cell_type": "code",
   "execution_count": null,
   "metadata": {},
   "outputs": [],
   "source": [
    "label_total_fake = np.full(len(psd1D_total_fake), True)\n",
    "label_total_real = np.full(len(psd1D_total_real), False)\n",
    "\n",
    "# psd1D_total_final = psd1D_total_fake\n",
    "# label_total_final = label_total_fake\n",
    "\n",
    "features = np.concatenate((psd1D_total_fake, psd1D_total_real))\n",
    "labels = np.concatenate((label_total_fake, label_total_real))"
   ]
  },
  {
   "cell_type": "code",
   "execution_count": null,
   "metadata": {},
   "outputs": [],
   "source": [
    "# Benford's Law for the first digit\n",
    "DIGITS = np.arange(1, 10)\n",
    "BENFORD = np.log10(1 + 1 / DIGITS)"
   ]
  },
  {
   "cell_type": "code",
   "execution_count": null,
   "metadata": {},
   "outputs": [],
   "source": [
    "def get_first_digit(value: float) -> int:\n",
    "    value_str = str(value)\n",
    "    if value_str[0] == \"-\":\n",
    "        return int(value_str[1])\n",
    "    return int(value_str[0])\n",
    "\n",
    "\n",
    "def get_digit_counts(array: list[int]) -> list[int]:\n",
    "    # use List comprehension to count the occurrences of each digit\n",
    "    return [array.count(digit) for digit in DIGITS]\n",
    "\n",
    "\n",
    "# Get first digit of each value\n",
    "first_digits = [[get_first_digit(value) for value in array] for array in features]\n",
    "\n",
    "# Count the occurrences of each first digit\n",
    "first_digits_counts = [get_digit_counts(array) for array in first_digits]\n"
   ]
  },
  {
   "cell_type": "code",
   "execution_count": null,
   "metadata": {},
   "outputs": [],
   "source": [
    "import scipy.stats as stats\n",
    "import sklearn.metrics as metrics\n",
    "\n",
    "\n",
    "def test_results(\n",
    "    alpha: int,\n",
    "    first_digits_counts: list[list[int]] = first_digits_counts,\n",
    ") -> dict:\n",
    "    # Test the goodness of fit for each feature\n",
    "    goodness_of_fit = [\n",
    "        stats.pearsonr(first_digits_count, BENFORD)\n",
    "        for first_digits_count in first_digits_counts\n",
    "    ]\n",
    "\n",
    "    # calculate True Positive, False Positive, True Negative, False Negative\n",
    "    results = [1 - alpha >= p_value for p_value, _ in goodness_of_fit]\n",
    "\n",
    "    # label for fake is 0/False, real is 1/True\n",
    "    TN, FP, FN, TP = metrics.confusion_matrix(labels, results).ravel()\n",
    "\n",
    "    return {\n",
    "        \"True Positive\": TP,\n",
    "        \"False Positive\": FP,\n",
    "        \"True Negative\": TN,\n",
    "        \"False Negative\": FN,\n",
    "        \"Precision\": metrics.precision_score(labels, results),\n",
    "        \"Recall\": metrics.recall_score(labels, results),\n",
    "        \"F1\": metrics.f1_score(labels, results),\n",
    "        \"Accuracy\": metrics.accuracy_score(labels, results),\n",
    "    }"
   ]
  },
  {
   "cell_type": "code",
   "execution_count": null,
   "metadata": {},
   "outputs": [],
   "source": [
    "# Print the table using pandas Dataframe\n",
    "import pandas as pd\n",
    "\n",
    "ALPHA = [0.01, 0.05, 0.1]\n",
    "\n",
    "results = [test_results(alpha) for alpha in ALPHA]\n",
    "\n",
    "df = pd.DataFrame.from_records(results, index=ALPHA)\n",
    "df.columns.name = \"\\N{GREEK SMALL LETTER ALPHA}\"\n",
    "df"
   ]
  }
 ],
 "metadata": {
  "kernelspec": {
   "display_name": ".venv",
   "language": "python",
   "name": "python3"
  },
  "language_info": {
   "codemirror_mode": {
    "name": "ipython",
    "version": 3
   },
   "file_extension": ".py",
   "mimetype": "text/x-python",
   "name": "python",
   "nbconvert_exporter": "python",
   "pygments_lexer": "ipython3"
  }
 },
 "nbformat": 4,
 "nbformat_minor": 2
}
