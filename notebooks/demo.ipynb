{
 "cells": [
  {
   "cell_type": "code",
   "execution_count": null,
   "metadata": {},
   "outputs": [],
   "source": [
    "import numpy as np\n",
    "\n",
    "# Debug library, very useful\n",
    "from icecream import ic"
   ]
  },
  {
   "cell_type": "code",
   "execution_count": 2,
   "metadata": {},
   "outputs": [],
   "source": [
    "import os\n",
    "\n",
    "dir_fake = [\"../dataset/fake\"]\n",
    "dir_real = [\"../dataset/real\"]\n",
    "\n",
    "# Collect all file paths and filter invalid files\n",
    "fake_files = [\n",
    "    os.path.join(subdir, file)\n",
    "    for dir in dir_fake\n",
    "    for subdir, _, files in os.walk(dir)\n",
    "    for file in files\n",
    "    if os.path.isfile(os.path.join(subdir, file)) is True\n",
    "]\n",
    "\n",
    "real_files = [\n",
    "    os.path.join(subdir, file)\n",
    "    for dir in dir_real\n",
    "    for subdir, _, files in os.walk(dir)\n",
    "    for file in files\n",
    "    if os.path.isfile(os.path.join(subdir, file)) is True\n",
    "]"
   ]
  },
  {
   "cell_type": "code",
   "execution_count": null,
   "metadata": {},
   "outputs": [],
   "source": [
    "from ImageForensics import FeatureExtraction\n",
    "\n",
    "N = 300\n",
    "extract = FeatureExtraction(features=N)\n",
    "\n",
    "psd1D_total_fake = extract.multithread_fft(fake_files)\n",
    "psd1D_total_real = extract.multithread_fft(real_files)\n",
    "\n",
    "# Remove None results if any files failed to process\n",
    "psd1D_total_fake = [result for result in psd1D_total_fake if result is not None]\n",
    "psd1D_total_real = [result for result in psd1D_total_real if result is not None]"
   ]
  },
  {
   "cell_type": "code",
   "execution_count": 4,
   "metadata": {},
   "outputs": [],
   "source": [
    "label_total_fake = np.ones(len(psd1D_total_fake))\n",
    "label_total_real = np.zeros(len(psd1D_total_real))\n",
    "\n",
    "# psd1D_total_final = psd1D_total_fake\n",
    "# label_total_final = label_total_fake\n",
    "\n",
    "features = np.concatenate((psd1D_total_fake, psd1D_total_real))\n",
    "labels = np.concatenate((label_total_fake, label_total_real))"
   ]
  },
  {
   "cell_type": "code",
   "execution_count": 5,
   "metadata": {},
   "outputs": [],
   "source": [
    "# Benford's Law for the first digit\n",
    "DIGITS = np.arange(1, 10)\n",
    "BENFORD = np.log10(1 + 1 / DIGITS)"
   ]
  },
  {
   "cell_type": "code",
   "execution_count": 6,
   "metadata": {},
   "outputs": [],
   "source": [
    "# Get first digit of each value\n",
    "features = [[int(str(value)[0]) for value in array] for array in features]\n",
    "\n",
    "# Count the occurrences of each first digit\n",
    "first_digits_counts = [\n",
    "    np.histogram(array, bins=np.arange(1, 11))[0] for array in features\n",
    "]"
   ]
  },
  {
   "cell_type": "code",
   "execution_count": 7,
   "metadata": {},
   "outputs": [],
   "source": [
    "import scipy.stats as stats\n",
    "\n",
    "\n",
    "def test_results(alpha, first_digits_counts=first_digits_counts):\n",
    "    goodness_of_fit = [\n",
    "        stats.pearsonr(first_digits_count, BENFORD)\n",
    "        for first_digits_count in first_digits_counts\n",
    "    ]\n",
    "\n",
    "    # calculate True Positive, False Positive, True Negative, False Negative\n",
    "    results = [\n",
    "        (1 - alpha >= p_value, labels[i])\n",
    "        for i, (p_value, _) in enumerate(goodness_of_fit)\n",
    "    ]\n",
    "\n",
    "    # fake is 0, real is 1\n",
    "    TP = sum(is_legitimate and (label == 1) for is_legitimate, label in results)\n",
    "    FP = sum(is_legitimate and (label == 0) for is_legitimate, label in results)\n",
    "    TN = sum(not is_legitimate and (label == 0) for is_legitimate, label in results)\n",
    "    FN = sum(not is_legitimate and (label == 1) for is_legitimate, label in results)\n",
    "\n",
    "    precision = TP / (TP + FP)\n",
    "    recall = TP / (TP + FN)\n",
    "    f1 = 2 * (precision * recall) / (precision + recall)\n",
    "    accuracy = (TP + TN) / (TP + TN + FP + FN)\n",
    "\n",
    "    return {\n",
    "        \"TP\": TP,\n",
    "        \"FP\": FP,\n",
    "        \"TN\": TN,\n",
    "        \"FN\": FN,\n",
    "        \"precision\": precision,\n",
    "        \"recall\": recall,\n",
    "        \"f1\": f1,\n",
    "        \"accuracy\": accuracy,\n",
    "    }"
   ]
  },
  {
   "cell_type": "code",
   "execution_count": null,
   "metadata": {},
   "outputs": [],
   "source": [
    "ic(test_results(alpha=1 / 100))\n",
    "ic(test_results(alpha=5 / 100))\n",
    "ic(test_results(alpha=10 / 100))"
   ]
  }
 ],
 "metadata": {
  "kernelspec": {
   "display_name": ".venv",
   "language": "python",
   "name": "python3"
  },
  "language_info": {
   "codemirror_mode": {
    "name": "ipython",
    "version": 3
   },
   "file_extension": ".py",
   "mimetype": "text/x-python",
   "name": "python",
   "nbconvert_exporter": "python",
   "pygments_lexer": "ipython3",
   "version": "3.13.1"
  }
 },
 "nbformat": 4,
 "nbformat_minor": 2
}
