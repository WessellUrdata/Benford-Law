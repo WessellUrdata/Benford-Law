{
 "cells": [
  {
   "cell_type": "code",
   "execution_count": 1,
   "metadata": {},
   "outputs": [],
   "source": [
    "import numpy as np\n",
    "\n",
    "# Debug library, very useful\n",
    "from icecream import ic"
   ]
  },
  {
   "cell_type": "code",
   "execution_count": 2,
   "metadata": {},
   "outputs": [],
   "source": [
    "# Please change this filename accordingly\n",
    "image = \"../dataset/custom/real/IMG_20211008_115846.jpg\""
   ]
  },
  {
   "cell_type": "code",
   "execution_count": 3,
   "metadata": {},
   "outputs": [],
   "source": [
    "from ImageForensics import FeatureExtraction\n",
    "\n",
    "N = 300\n",
    "extract = FeatureExtraction(features=N)\n",
    "\n",
    "psd1D = extract.fft(image)"
   ]
  },
  {
   "cell_type": "code",
   "execution_count": 4,
   "metadata": {},
   "outputs": [],
   "source": [
    "# Benford's Law for the first digit\n",
    "DIGITS = np.arange(1, 10)\n",
    "BENFORD = np.log10(1 + 1 / DIGITS)"
   ]
  },
  {
   "cell_type": "code",
   "execution_count": 5,
   "metadata": {},
   "outputs": [],
   "source": [
    "# Get first digit of each value\n",
    "features = [int(str(value)[0]) for value in psd1D]\n",
    "\n",
    "# Count the occurrences of each first digit\n",
    "first_digits_counts = np.histogram(features, bins=np.arange(1, 11))[0]\n"
   ]
  },
  {
   "cell_type": "code",
   "execution_count": 6,
   "metadata": {},
   "outputs": [
    {
     "name": "stderr",
     "output_type": "stream",
     "text": [
      "ic| alpha: 0.01, results: np.True_\n",
      "ic| alpha: 0.05, results: np.True_\n",
      "ic| alpha: 0.1, results: np.False_\n"
     ]
    }
   ],
   "source": [
    "import scipy.stats as stats\n",
    "\n",
    "ALPHA = [0.01, 0.05, 0.1]\n",
    "\n",
    "for alpha in ALPHA:\n",
    "    goodness_of_fit = stats.pearsonr(first_digits_counts, BENFORD)\n",
    "\n",
    "    # calculate True Positive, False Positive, True Negative, False Negative\n",
    "    results = 1 - alpha >= goodness_of_fit[0]\n",
    "\n",
    "    ic(alpha, results)"
   ]
  }
 ],
 "metadata": {
  "kernelspec": {
   "display_name": ".venv",
   "language": "python",
   "name": "python3"
  },
  "language_info": {
   "codemirror_mode": {
    "name": "ipython",
    "version": 3
   },
   "file_extension": ".py",
   "mimetype": "text/x-python",
   "name": "python",
   "nbconvert_exporter": "python",
   "pygments_lexer": "ipython3"
  }
 },
 "nbformat": 4,
 "nbformat_minor": 2
}
